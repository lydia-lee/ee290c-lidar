{
 "cells": [
  {
   "cell_type": "code",
   "execution_count": 1,
   "metadata": {},
   "outputs": [],
   "source": [
    "%matplotlib inline\n",
    "import numpy as np\n",
    "import matplotlib.pyplot as plt\n",
    "import pandas as pd\n",
    "from linewidth import delta_theta, delta_f"
   ]
  },
  {
   "cell_type": "code",
   "execution_count": null,
   "metadata": {},
   "outputs": [],
   "source": []
  },
  {
   "cell_type": "markdown",
   "metadata": {},
   "source": [
    "<h1>Array Size vs. Element Pitch for 100urad Beam Divergence Across Plus/Minus Range</h1>"
   ]
  },
  {
   "cell_type": "code",
   "execution_count": null,
   "metadata": {},
   "outputs": [],
   "source": [
    "fname = 'numEl_vs_pitch_10deg'\n",
    "\n",
    "data = pd.read_csv(f'data/{fname}.csv')\n",
    "num_elements = list(data['Elements'])\n",
    "pitch = list(data['Pitch'])\n",
    "\n",
    "plt.plot(pitch, num_elements)\n",
    "plt.xlabel('Device Pitch (Microns)')\n",
    "plt.ylabel('Number of Elements')\n",
    "plt.title('$\\pm$ 10$^o$\\nNo Phase Quantization')\n",
    "plt.xlim([min(pitch), max(pitch)])\n",
    "plt.grid(True)\n",
    "plt.savefig(f'data/{fname}.png')"
   ]
  },
  {
   "cell_type": "markdown",
   "metadata": {},
   "source": [
    "<h1>Calculating Max Laser Linewidth for Dispersion</h1>"
   ]
  },
  {
   "cell_type": "code",
   "execution_count": 2,
   "metadata": {},
   "outputs": [],
   "source": [
    "lambda_0 = 1550e-9\n",
    "f_0 = 3e8/lambda_0\n",
    "lambda_delta_vec = np.arange(0,10e-9,0.1e-9)\n",
    "Lambda = 8.9e-6 # 8.9e-6/14.8e-6 for pm 10deg/6deg\n",
    "\n",
    "lambda_delta_down = 0\n",
    "lambda_delta_up = 0\n",
    "\n",
    "for lambda_delta in lambda_delta_vec:\n",
    "    theta_delta_down, theta_delta_up = delta_theta(1, lambda_0, lambda_delta, Lambda)\n",
    "    if abs(theta_delta_down) < 100e-6:\n",
    "        lambda_delta_down = lambda_delta\n",
    "    if abs(theta_delta_up) < 100e-6:\n",
    "        lambda_delta_up = lambda_delta\n",
    "        \n",
    "lambda_max = lambda_0 + lambda_delta_up\n",
    "lambda_min = lambda_0 - lambda_delta_down"
   ]
  },
  {
   "cell_type": "code",
   "execution_count": 3,
   "metadata": {},
   "outputs": [
    {
     "name": "stdout",
     "output_type": "stream",
     "text": [
      "Min/Max: 1.5492e-06/1.5508e-06\n"
     ]
    }
   ],
   "source": [
    "print(f'Min/Max: {lambda_min}/{lambda_max}')"
   ]
  },
  {
   "cell_type": "code",
   "execution_count": 7,
   "metadata": {},
   "outputs": [],
   "source": [
    "f_min = f_0 + delta_f(lambda_0, lambda_delta_up)\n",
    "f_max = f_0 + delta_f(lambda_0, -lambda_delta_down)"
   ]
  },
  {
   "cell_type": "code",
   "execution_count": 13,
   "metadata": {},
   "outputs": [
    {
     "name": "stdout",
     "output_type": "stream",
     "text": [
      "Min/Max: 193.4485426876451/193.64833462432225 THz\n",
      "199.79193667715626\n"
     ]
    }
   ],
   "source": [
    "print(f'Min/Max: {f_min*1e-12}/{f_max*1e-12} THz')\n",
    "print((f_max-f_min)*1e-9)"
   ]
  },
  {
   "cell_type": "code",
   "execution_count": 12,
   "metadata": {},
   "outputs": [
    {
     "data": {
      "text/plain": [
       "8e-10"
      ]
     },
     "execution_count": 12,
     "metadata": {},
     "output_type": "execute_result"
    }
   ],
   "source": []
  },
  {
   "cell_type": "code",
   "execution_count": null,
   "metadata": {},
   "outputs": [],
   "source": []
  }
 ],
 "metadata": {
  "kernelspec": {
   "display_name": "Python 3",
   "language": "python",
   "name": "python3"
  },
  "language_info": {
   "codemirror_mode": {
    "name": "ipython",
    "version": 3
   },
   "file_extension": ".py",
   "mimetype": "text/x-python",
   "name": "python",
   "nbconvert_exporter": "python",
   "pygments_lexer": "ipython3",
   "version": "3.6.5"
  }
 },
 "nbformat": 4,
 "nbformat_minor": 2
}
